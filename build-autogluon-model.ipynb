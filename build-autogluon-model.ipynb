{
 "metadata": {
  "language_info": {
   "codemirror_mode": {
    "name": "ipython",
    "version": 3
   },
   "file_extension": ".py",
   "mimetype": "text/x-python",
   "name": "python",
   "nbconvert_exporter": "python",
   "pygments_lexer": "ipython3",
   "version": "3.7.10"
  },
  "orig_nbformat": 4,
  "kernelspec": {
   "name": "python3",
   "display_name": "Python 3.7.10 64-bit ('autogluon': conda)"
  },
  "interpreter": {
   "hash": "7cbda11db75a6a6f02552cb5b1d0c9db45260176a858c36f0b0a2fdf2092b644"
  }
 },
 "nbformat": 4,
 "nbformat_minor": 2,
 "cells": [
  {
   "source": [
    "# How to build a basic classification model with Autogluon"
   ],
   "cell_type": "markdown",
   "metadata": {}
  },
  {
   "cell_type": "code",
   "execution_count": null,
   "metadata": {},
   "outputs": [],
   "source": [
    "import warnings\n",
    "warnings.filterwarnings(\"ignore\", category=DeprecationWarning)"
   ]
  },
  {
   "cell_type": "code",
   "execution_count": null,
   "metadata": {},
   "outputs": [],
   "source": [
    "from autogluon.tabular import TabularDataset, TabularPredictor\n",
    "from sklearn.model_selection import train_test_split"
   ]
  },
  {
   "source": [
    "## Prepare data"
   ],
   "cell_type": "markdown",
   "metadata": {}
  },
  {
   "cell_type": "code",
   "execution_count": null,
   "metadata": {},
   "outputs": [],
   "source": [
    "fps_file = \"./data/phototox_fps.csv\"\n",
    "rdkit_file = \"./data/phototox_rdkit.csv\"\n",
    "rdkit_fps_file = \"./data/phototox_rdkit_fps.csv\"\n",
    "\n",
    "data = TabularDataset(data=rdkit_fps_file)\n",
    "df_train, df_test = train_test_split(data,\n",
    "                                     test_size=0.2,\n",
    "                                     random_state=0,\n",
    "                                     stratify=fps_data[['Value']]\n",
    "                                     )\n",
    "\n",
    "print(\"Counts of train classes:\")\n",
    "print(df_train.Value.value_counts())\n",
    "print(\"Counts of test classes:\")\n",
    "print(df_test.Value.value_counts())"
   ]
  },
  {
   "source": [
    "## Training"
   ],
   "cell_type": "markdown",
   "metadata": {}
  },
  {
   "cell_type": "code",
   "execution_count": null,
   "metadata": {},
   "outputs": [],
   "source": [
    "label_column = 'Value'\n",
    "id_columns = [\"Substance\", \"Canonical_Smiles\", \"Rating\"]\n",
    "save_path = './models/ag-model-binary-phototox'\n",
    "learner_kwargs = {\n",
    "    'positive_class': 1,\n",
    "    'ignored_columns': id_columns\n",
    "}\n",
    "metric = 'roc_auc'\n",
    "\n",
    "predictor = TabularPredictor(label=label_column, path=save_path, problem_type='binary',\n",
    "                             eval_metric=metric, learner_kwargs=learner_kwargs)\n",
    "predictor.fit(train_data=df_train,\n",
    "              #time_limit=10,\n",
    "              presets='best_quality' \n",
    " )"
   ]
  },
  {
   "cell_type": "code",
   "execution_count": null,
   "metadata": {},
   "outputs": [],
   "source": [
    "results = predictor.fit_summary(verbosity=1)"
   ]
  },
  {
   "source": [
    "## Inference"
   ],
   "cell_type": "markdown",
   "metadata": {}
  },
  {
   "cell_type": "code",
   "execution_count": null,
   "metadata": {},
   "outputs": [],
   "source": [
    "label_column = 'Value'\n",
    "y_test = df_test[label_column]\n",
    "df_test_nolabel = df_test.drop(columns=[label_column])\n",
    "\n",
    "predictor = TabularPredictor.load(\"./models/ag-model-binary/\")\n",
    "y_pred = predictor.predict_proba(df_test_nolabel)\n",
    "perf = predictor.evaluate_predictions(y_true=y_test, y_pred=y_pred, auxiliary_metrics=True)"
   ]
  },
  {
   "cell_type": "code",
   "execution_count": null,
   "metadata": {},
   "outputs": [],
   "source": [
    "# Predicted probabilities\n",
    "print(y_pred)"
   ]
  },
  {
   "cell_type": "code",
   "execution_count": null,
   "metadata": {},
   "outputs": [],
   "source": [
    "df_leaderboard = predictor.leaderboard(df_test, silent=True)\n",
    "df_leaderboard"
   ]
  },
  {
   "cell_type": "code",
   "execution_count": null,
   "metadata": {},
   "outputs": [],
   "source": []
  }
 ]
}