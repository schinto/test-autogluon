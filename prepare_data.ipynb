{
 "metadata": {
  "language_info": {
   "codemirror_mode": {
    "name": "ipython",
    "version": 3
   },
   "file_extension": ".py",
   "mimetype": "text/x-python",
   "name": "python",
   "nbconvert_exporter": "python",
   "pygments_lexer": "ipython3",
   "version": "3.7.10"
  },
  "orig_nbformat": 2,
  "kernelspec": {
   "name": "python3",
   "display_name": "Python 3.7.10 64-bit"
  },
  "interpreter": {
   "hash": "7cbda11db75a6a6f02552cb5b1d0c9db45260176a858c36f0b0a2fdf2092b644"
  }
 },
 "nbformat": 4,
 "nbformat_minor": 2,
 "cells": [
  {
   "cell_type": "code",
   "execution_count": null,
   "metadata": {},
   "outputs": [],
   "source": [
    "import numpy as np\n",
    "import pandas as pd\n",
    "\n",
    "from rdkit import RDLogger\n",
    "from rdkit import Chem, rdBase\n",
    "from rdkit.Chem import AllChem\n",
    "from rdkit.Chem import DataStructs\n",
    "from rdkit.Chem.Draw import IPythonConsole\n",
    "from rdkit.Chem import PandasTools\n",
    "from rdkit.Chem.MolStandardize import rdMolStandardize\n",
    "from rdkit.Chem.MolStandardize.standardize import canonicalize_tautomer_smiles\n",
    "from rdkit.ML.Descriptors import MoleculeDescriptors\n"
   ]
  },
  {
   "cell_type": "code",
   "execution_count": null,
   "metadata": {},
   "outputs": [],
   "source": [
    "print(f'RDKit version: {rdBase.rdkitVersion}')"
   ]
  },
  {
   "cell_type": "code",
   "execution_count": null,
   "metadata": {},
   "outputs": [],
   "source": [
    "df_excel = pd.read_excel(\"./data/2019 Computational Investigation of Drug Phototoxicity - SI.xls\")\n",
    "df_excel.head()"
   ]
  },
  {
   "cell_type": "code",
   "execution_count": null,
   "metadata": {
    "tags": []
   },
   "outputs": [],
   "source": [
    "def parent(smiles):\n",
    "    '''Get parent of a smiles'''\n",
    "    try:\n",
    "        m = Chem.MolFromSmiles(smiles)\n",
    "        if m is None:\n",
    "            raise Exception(\"MolFromSmiles failed\")\n",
    "        m = rdMolStandardize.FragmentParent(m)\n",
    "        return Chem.MolToSmiles(m)\n",
    "    except:\n",
    "        print(f\"{smiles} failed conversion\")\n",
    "        return np.nan\n",
    "\n",
    "def clean_smiles(smiles):\n",
    "    try:\n",
    "        mol = Chem.MolFromSmiles(smiles)\n",
    "        Chem.SanitizeMol(mol)\n",
    "        mol = Chem.RemoveHs(mol)\n",
    "        mol = rdMolStandardize.MetalDisconnector().Disconnect(mol)\n",
    "        mol = rdMolStandardize.Normalize(mol)\n",
    "        mol = rdMolStandardize.Reionize(mol)\n",
    "        Chem.AssignStereochemistry(mol, force=True, cleanIt=True)\n",
    "        return Chem.MolToSmiles(mol)\n",
    "    except:\n",
    "        print(f\"{smiles} failed conversion\")\n",
    "        return np.nan\n",
    "    \n",
    "def clean_data(data):\n",
    "    '''Clean and standardize the data'''\n",
    "    data = data.copy()\n",
    "    \n",
    "    # Remove missing smiles\n",
    "    data = data[data['smiles'].notnull()]\n",
    "    \n",
    "    # Standardize and get parent\n",
    "    data[\"smiles_parent\"] = data['smiles'].apply(parent)\n",
    "    \n",
    "    # Remove rows with missing parent smiles\n",
    "    data = data[data['smiles_parent'].notnull()]\n",
    "\n",
    "    # Standardize parent smiles\n",
    "    data[\"smiles_clean\"] = data['smiles_parent'].apply(clean_smiles)\n",
    "    \n",
    "    # # Failed smiles\n",
    "    # print(data.loc[data['smiles_clean'].isnull(), 'smiles'].values)\n",
    "\n",
    "    # Remove rows with missing cleaned smiles\n",
    "    data = data[data['smiles_clean'].notnull()]\n",
    "\n",
    "    # Filter out small fragments\n",
    "    def NumAtoms(smile):\n",
    "        return Chem.MolFromSmiles(smile).GetNumAtoms()\n",
    "    data[\"NumAtoms\"] = data[\"smiles_clean\"].apply(NumAtoms)\n",
    "    data = data[data[\"NumAtoms\"] > 3]\n",
    "    data.drop(columns=['NumAtoms'],inplace = True)\n",
    "\n",
    "    # Canonicalalize tautomer smiles\n",
    "    data[\"Canonical_Smiles\"] = data[\"smiles_clean\"].apply(canonicalize_tautomer_smiles)\n",
    "    \n",
    "    return data\n",
    "\n",
    "data = df_excel.rename(columns={\"Canonical_Smiles\": \"smiles\"})\n",
    "num_mols_before =  data.shape[0]\n",
    "\n",
    "RDLogger.DisableLog('rdApp.info')\n",
    "data = clean_data(data)\n",
    "data.reset_index(drop=True, inplace=True)\n",
    "RDLogger.EnableLog('rdApp.info')\n",
    "\n",
    "num_mols_after =  data.shape[0]\n",
    "print(f'#Molecules before cleaning: {num_mols_before}')\n",
    "print(f'#Molecules  after cleaning: {num_mols_after}')\n"
   ]
  },
  {
   "cell_type": "code",
   "execution_count": null,
   "metadata": {},
   "outputs": [],
   "source": [
    "# Keep required columns\n",
    "keep = [\"Substance\", \"Canonical_Smiles\", \"Rating\", \"Value\"]\n",
    "df_mols = data[keep].copy()\n",
    "\n",
    "# Add molecules to dataframe\n",
    "num_mols_before =  df_mols.shape[0]\n",
    "PandasTools.AddMoleculeColumnToFrame(df_mols,'Canonical_Smiles','Molecule')\n",
    "\n",
    "# Check for empty molecules\n",
    "print(\"Failed conversion of smiles:\")\n",
    "print(df_mols[df_mols.Molecule.isnull()])\n",
    "\n",
    "# Drop rows with empty molecules\n",
    "df_mols = df_mols[df_mols.Molecule.notnull()]\n",
    "df_mols.reset_index(drop=True, inplace=True)\n",
    "num_mols_after =  df_mols.shape[0]\n",
    "\n",
    "print(f'#Molecules before dropping: {num_mols_before}')\n",
    "print(f'#Molecules  after dropping: {num_mols_after}')\n"
   ]
  },
  {
   "cell_type": "code",
   "execution_count": null,
   "metadata": {},
   "outputs": [],
   "source": [
    "PandasTools.FrameToGridImage(df_mols[:6], column='Molecule', legendsCol='Substance')"
   ]
  },
  {
   "cell_type": "code",
   "execution_count": null,
   "metadata": {},
   "outputs": [],
   "source": [
    "# keep = [\"Substance\", \"smiles\", \"Canonical_Smiles\"]\n",
    "# df_check = data[keep].copy()\n",
    "# df_check.to_excel(\"./data/phototox_clean.xlsx\", index=False)\n"
   ]
  },
  {
   "cell_type": "code",
   "execution_count": null,
   "metadata": {},
   "outputs": [],
   "source": [
    "nms = ['MinAbsPartialCharge', 'NumRadicalElectrons', 'HeavyAtomMolWt', 'MaxAbsEStateIndex', 'MaxAbsPartialCharge', 'MaxEStateIndex', 'MinPartialCharge', 'ExactMolWt', 'MolWt', 'NumValenceElectrons', 'MinEStateIndex', 'MinAbsEStateIndex',\n",
    "       'MaxPartialCharge', 'BalabanJ', 'BertzCT', 'Chi0', 'Chi0n', 'Chi0v', 'Chi1', 'Chi1n', 'Chi1v', 'Chi2n', 'Chi2v', 'Chi3n', 'Chi3v', 'Chi4n', 'Chi4v', 'HallKierAlpha', 'Kappa1', 'Kappa2', 'Kappa3', 'LabuteASA', 'PEOE_VSA1',\n",
    "       'PEOE_VSA10', 'PEOE_VSA11', 'PEOE_VSA12', 'PEOE_VSA13', 'PEOE_VSA14', 'PEOE_VSA2', 'PEOE_VSA3', 'PEOE_VSA4', 'PEOE_VSA5', 'PEOE_VSA6', 'PEOE_VSA7', 'PEOE_VSA8', 'PEOE_VSA9', 'SMR_VSA1', 'SMR_VSA10', 'SMR_VSA2', 'SMR_VSA3',\n",
    "       'SMR_VSA4', 'SMR_VSA5', 'SMR_VSA6', 'SMR_VSA7', 'SMR_VSA8', 'SMR_VSA9', 'SlogP_VSA1', 'SlogP_VSA10', 'SlogP_VSA11', 'SlogP_VSA12', 'SlogP_VSA2', 'SlogP_VSA3', 'SlogP_VSA4', 'SlogP_VSA5', 'SlogP_VSA6', 'SlogP_VSA7', 'SlogP_VSA8',\n",
    "       'SlogP_VSA9', 'TPSA', 'EState_VSA1', 'EState_VSA10', 'EState_VSA11', 'EState_VSA2', 'EState_VSA3', 'EState_VSA4', 'EState_VSA5', 'EState_VSA6', 'EState_VSA7', 'EState_VSA8', 'EState_VSA9', 'VSA_EState1', 'VSA_EState10',\n",
    "       'VSA_EState2', 'VSA_EState3', 'VSA_EState4', 'VSA_EState5', 'VSA_EState6', 'VSA_EState7', 'VSA_EState8', 'VSA_EState9', 'FractionCSP3', 'HeavyAtomCount', 'NHOHCount', 'NOCount', 'NumAliphaticCarbocycles', 'NumAliphaticHeterocycles',\n",
    "       'NumAliphaticRings', 'NumAromaticCarbocycles', 'NumAromaticHeterocycles', 'NumAromaticRings', 'NumHAcceptors', 'NumHDonors', 'NumHeteroatoms', 'NumRotatableBonds', 'NumSaturatedCarbocycles', 'NumSaturatedHeterocycles',\n",
    "       'NumSaturatedRings', 'RingCount', 'MolLogP', 'MolMR', 'fr_Al_COO', 'fr_Al_OH', 'fr_Al_OH_noTert', 'fr_ArN', 'fr_Ar_COO', 'fr_Ar_N', 'fr_Ar_NH', 'fr_Ar_OH', 'fr_COO', 'fr_COO2', 'fr_C_O', 'fr_C_O_noCOO', 'fr_C_S', 'fr_HOCCN',\n",
    "       'fr_Imine', 'fr_NH0', 'fr_NH1', 'fr_NH2', 'fr_N_O', 'fr_Ndealkylation1', 'fr_Ndealkylation2', 'fr_Nhpyrrole', 'fr_SH', 'fr_aldehyde', 'fr_alkyl_carbamate', 'fr_alkyl_halide', 'fr_allylic_oxid', 'fr_amide', 'fr_amidine', 'fr_aniline',\n",
    "       'fr_aryl_methyl', 'fr_azide', 'fr_azo', 'fr_barbitur', 'fr_benzene', 'fr_benzodiazepine', 'fr_bicyclic', 'fr_diazo', 'fr_dihydropyridine', 'fr_epoxide', 'fr_ester', 'fr_ether', 'fr_furan', 'fr_guanido', 'fr_halogen', 'fr_hdrzine',\n",
    "       'fr_hdrzone', 'fr_imidazole', 'fr_imide', 'fr_isocyan', 'fr_isothiocyan', 'fr_ketone', 'fr_ketone_Topliss', 'fr_lactam', 'fr_lactone', 'fr_methoxy', 'fr_morpholine', 'fr_nitrile', 'fr_nitro', 'fr_nitro_arom',\n",
    "       'fr_nitro_arom_nonortho', 'fr_nitroso', 'fr_oxazole', 'fr_oxime', 'fr_para_hydroxylation', 'fr_phenol', 'fr_phenol_noOrthoHbond', 'fr_phos_acid', 'fr_phos_ester', 'fr_piperdine', 'fr_piperzine', 'fr_priamide', 'fr_prisulfonamd',\n",
    "       'fr_pyridine', 'fr_quatN', 'fr_sulfide', 'fr_sulfonamd', 'fr_sulfone', 'fr_term_acetylene', 'fr_tetrazole', 'fr_thiazole', 'fr_thiocyan', 'fr_thiophene', 'fr_unbrch_alkane', 'fr_urea']\n",
    "rdkit_calculator = MoleculeDescriptors.MolecularDescriptorCalculator(nms)\n",
    "\n",
    "\n",
    "def calc_rdkit_properties(mols):\n",
    "    calc_desc = [rdkit_calculator.CalcDescriptors(mol) for mol in mols]\n",
    "    calc_desc = np.asarray(calc_desc)\n",
    "    calc_desc[~np.isfinite(calc_desc)] = 0\n",
    "    return calc_desc, [f'RDKIT:{x}' for x in nms]\n",
    "\n",
    "\n",
    "def calc_morgan_fingerprints(mols, nBits=1024, radius=3):    \n",
    "    calc_fp = []\n",
    "    for mol in mols:\n",
    "        arr = np.zeros((1,))\n",
    "        fp = AllChem.GetMorganFingerprintAsBitVect(mol, radius, useFeatures=True, nBits=nBits)\n",
    "        DataStructs.ConvertToNumpyArray(fp, arr)\n",
    "        calc_fp.append(arr)\n",
    "    calc_fp = np.asarray(calc_fp)\n",
    "    calc_fp[~np.isfinite(calc_fp)] = 0\n",
    "    return calc_fp, [f'MORGANF_{radius}_{nBits}:{x}' for x in range(nBits)]"
   ]
  },
  {
   "cell_type": "code",
   "execution_count": null,
   "metadata": {
    "tags": []
   },
   "outputs": [],
   "source": [
    "# Columns to keep from df_mols\n",
    "keep = [\"Substance\", \"Canonical_Smiles\", \"Rating\", \"Value\"]\n",
    "\n",
    "# Downcast binary Value to integer\n",
    "df_mols[\"Value\"] = df_mols[\"Value\"].apply(pd.to_numeric, downcast='integer')\n",
    "\n",
    "# Calculate rdkit features\n",
    "rdkit_features, rdkit_columns = calc_rdkit_properties(df_mols['Molecule'])\n",
    "\n",
    "df_rdkit = pd.DataFrame(data=rdkit_features, columns=rdkit_columns)\n",
    "df_rdkit = df_mols[keep].join(df_rdkit)\n",
    "print(\"df_rdkit: {df_rdkit.shape}\")\n",
    "df_rdkit.to_csv(\"./data/phototox_rdkit.csv\", index=False)\n",
    "\n",
    "# Calculate fingerprint features\n",
    "fingerprint_features, fingerprint_columns = calc_morgan_fingerprints(df_mols['Molecule'], nBits=1024, radius=3)\n",
    "df_fps = pd.DataFrame(data=fingerprint_features, columns=fingerprint_columns)\n",
    "df_fps = df_mols[keep].join(df_fps)\n",
    "df_fps[fingerprint_columns] = df_fps[fingerprint_columns].apply(pd.to_numeric, downcast='integer')\n",
    "print(\"df_fps: {df_fps.shape}\")\n",
    "df_fps.to_csv(\"./data/phototox_fps.csv\", index=False)\n",
    "\n",
    "# Combine rdkit with fingerprint features\n",
    "rdkit_fps_features = np.hstack([rdkit_features, fingerprint_features])\n",
    "rdkit_fps_columns = np.hstack([rdkit_columns, fingerprint_columns])\n",
    "\n",
    "df_rdkit_fps = pd.DataFrame(data=rdkit_fps_features, columns=rdkit_fps_columns)\n",
    "df_rdkit_fps = df_mols[keep].join(df_rdkit_fps)\n",
    "df_rdkit_fps[fingerprint_columns] = df_rdkit_fps[fingerprint_columns].apply(pd.to_numeric, downcast='integer')\n",
    "print(\"df_rdkit_fps: {df_rdkit_fps.shape}\")\n",
    "df_rdkit_fps.to_csv(\"./data/phototox_rdkit_fps.csv\", index=False)"
   ]
  }
 ]
}