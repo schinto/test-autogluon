{
 "metadata": {
  "language_info": {
   "codemirror_mode": {
    "name": "ipython",
    "version": 3
   },
   "file_extension": ".py",
   "mimetype": "text/x-python",
   "name": "python",
   "nbconvert_exporter": "python",
   "pygments_lexer": "ipython3",
   "version": "3.7.10"
  },
  "orig_nbformat": 4,
  "kernelspec": {
   "name": "python3",
   "display_name": "Python 3.7.10 64-bit"
  },
  "interpreter": {
   "hash": "7cbda11db75a6a6f02552cb5b1d0c9db45260176a858c36f0b0a2fdf2092b644"
  }
 },
 "nbformat": 4,
 "nbformat_minor": 2,
 "cells": [
  {
   "source": [
    "# Build PIH classification model with Autogluon"
   ],
   "cell_type": "markdown",
   "metadata": {}
  },
  {
   "cell_type": "code",
   "execution_count": 1,
   "metadata": {},
   "outputs": [],
   "source": [
    "import os\n",
    "import pandas as pd\n",
    "from autogluon.tabular import TabularDataset, TabularPredictor\n",
    "import warnings\n",
    "warnings.filterwarnings(\"ignore\", category=DeprecationWarning)"
   ]
  },
  {
   "source": [
    "## Prepare data"
   ],
   "cell_type": "markdown",
   "metadata": {}
  },
  {
   "cell_type": "code",
   "execution_count": 2,
   "metadata": {},
   "outputs": [
    {
     "output_type": "stream",
     "name": "stdout",
     "text": [
      "------------------------------\n#Features: 1025\nTrain data (998, 1027)\nno     602\nyes    396\nName: Photosensitation, dtype: int64\nTest data (306, 1027)\nno     183\nyes    123\nName: Photosensitation, dtype: int64\nExternal data (104, 1027)\nyes    66\nno     38\nName: Photosensitation, dtype: int64\n"
     ]
    }
   ],
   "source": [
    "# in_file = \"./data/pih_rdkit_fps.csv\"\n",
    "# in_file = \"./data/pih_flatring_fps.csv\"\n",
    "# in_file = \"./data/pih_flatring_rdkit_fps.csv\"\n",
    "# in_file = \"./data/pih_cats.csv\"\n",
    "in_file = \"./data/pih_fps.csv\"\n",
    "\n",
    "# Get basename without extension\n",
    "base = os.path.basename(in_file)\n",
    "in_name = os.path.splitext(base)[0]\n",
    "\n",
    "data = TabularDataset(data=in_file)\n",
    "df_train = data[data.Set == \"Train\"].copy()\n",
    "df_test = data[data.Set == \"Test\"].copy()\n",
    "df_ext = data[data.Set == \"Ext\"].copy()\n",
    "\n",
    "df_train.drop(columns=[\"Set\"], inplace=True)\n",
    "df_test.drop(columns=[\"Set\"], inplace=True)\n",
    "df_ext.drop(columns=[\"Set\"], inplace=True)\n",
    "\n",
    "id_columns = [\"Substance\", \"Canonical_Smiles\"]\n",
    "num_features = df_train.shape[1] - len(id_columns) - 1\n",
    "\n",
    "print('-'*30)\n",
    "print(f\"#Features: {num_features}\")\n",
    "print(\"Train data\", df_train.shape)\n",
    "print(df_train.Photosensitation.value_counts())\n",
    "print(\"Test data\", df_test.shape)\n",
    "print(df_test.Photosensitation.value_counts())\n",
    "print(\"External data\", df_ext.shape)\n",
    "print(df_ext.Photosensitation.value_counts())"
   ]
  },
  {
   "source": [
    "## Training"
   ],
   "cell_type": "markdown",
   "metadata": {}
  },
  {
   "cell_type": "code",
   "execution_count": null,
   "metadata": {
    "tags": []
   },
   "outputs": [],
   "source": [
    "label_column = 'Photosensitation'\n",
    "save_path = f\"./models/ag-binary-model-{in_name}\"\n",
    "\n",
    "predictor = TabularPredictor(\n",
    "    label=label_column,\n",
    "    path=save_path,\n",
    "    problem_type='binary',\n",
    "    eval_metric='accuracy',\n",
    "    learner_kwargs={\n",
    "        'positive_class': 'yes',\n",
    "        'ignored_columns': id_columns\n",
    "    },\n",
    ")\n",
    "\n",
    "hyperparameters = {\n",
    "    # \"NN\": {},\n",
    "    # \"GBM\": [\n",
    "    #     {\"extra_trees\": True, \"ag_args\": {\"name_suffix\": \"XT\"}},\n",
    "    #     {},\n",
    "    #     \"GBMLarge\",\n",
    "    # ],\n",
    "    \"CAT\": {},\n",
    "    \"XGB\": {},\n",
    "    # \"FASTAI\": {},\n",
    "    \"RF\": [\n",
    "        {\"criterion\": \"gini\"},\n",
    "        {\"criterion\": \"entropy\"},\n",
    "    ],\n",
    "    \"XT\": [\n",
    "        {\"criterion\": \"gini\"},\n",
    "        {\"criterion\": \"entropy\"},\n",
    "    ],\n",
    "}\n",
    "\n",
    "predictor.fit(\n",
    "    train_data=df_train,\n",
    "    #time_limit=600,\n",
    "    presets='best_quality',\n",
    "    #hyperparameters=hyperparameters,\n",
    "    verbosity=2,\n",
    "    num_bag_folds=5,\n",
    "    num_bag_sets=20\n",
    ")"
   ]
  },
  {
   "cell_type": "code",
   "execution_count": null,
   "metadata": {},
   "outputs": [],
   "source": [
    "results = predictor.fit_summary(verbosity=1)"
   ]
  },
  {
   "source": [
    "## Inference"
   ],
   "cell_type": "markdown",
   "metadata": {}
  },
  {
   "cell_type": "code",
   "execution_count": null,
   "metadata": {},
   "outputs": [],
   "source": [
    "output = predictor.evaluate(df_test)\n",
    "print(f\"{predictor.eval_metric.name}: {output[predictor.eval_metric.name]}\")\n",
    "#output"
   ]
  },
  {
   "cell_type": "code",
   "execution_count": null,
   "metadata": {},
   "outputs": [],
   "source": [
    "label_column = 'Photosensitation'\n",
    "\n",
    "# Evaluate model on test data\n",
    "y_pred = predictor.predict_proba(df_test.drop(columns=[label_column]))\n",
    "y_true = df_test[label_column]\n",
    "perf = predictor.evaluate_predictions(\n",
    "    y_true=y_true,\n",
    "    y_pred=y_pred,\n",
    "    auxiliary_metrics=True,\n",
    "    silent=True,\n",
    "    detailed_report=True,\n",
    ")\n",
    "perf[\"dataset\"] = in_name\n",
    "print('Performance of model on test data')\n",
    "perf\n",
    "  "
   ]
  },
  {
   "cell_type": "code",
   "execution_count": null,
   "metadata": {},
   "outputs": [],
   "source": [
    "def calc_sensitivity(df):\n",
    "    \"\"\"df contains the confusion_matrix\n",
    "    as pandas DataFrame\n",
    "    \"\"\"\n",
    "    tp = df.loc[\"yes\", \"yes\"]\n",
    "    fn = df.loc[\"no\", \"yes\"]\n",
    "    return tp / (tp + fn)\n",
    "\n",
    "\n",
    "def calc_specifity(df):\n",
    "    \"\"\"df contains the confusion_matrix\n",
    "    as pandas DataFrame\n",
    "    \"\"\"\n",
    "    fp = df.loc[\"yes\", \"no\"]\n",
    "    tn = df.loc[\"no\", \"no\"]\n",
    "    return tn / (tn + fp)\n",
    "\n",
    "confusion_matrix = perf[\"confusion_matrix\"]\n",
    "sensitivity = calc_sensitivity(confusion_matrix)\n",
    "specifity = calc_specifity(confusion_matrix)\n",
    "print(f\"Sensitivity: {sensitivity:.4}\")\n",
    "print(f\"Specifity  : {specifity:.4}\")\n",
    "\n",
    "print(\"Confusion matrix\")\n",
    "cm = (confusion_matrix.rename(columns={\"yes\": 'predicted positive','no': 'predicted negative'})\n",
    ".rename({'yes': 'observed positive','no': 'observed negative'})\n",
    ")\n",
    "cm"
   ]
  },
  {
   "cell_type": "code",
   "execution_count": null,
   "metadata": {},
   "outputs": [],
   "source": [
    "df_leaderboard = predictor.leaderboard(df_test, silent=True)\n",
    "df_leaderboard"
   ]
  },
  {
   "cell_type": "code",
   "execution_count": null,
   "metadata": {},
   "outputs": [],
   "source": [
    "test_data_transformed = predictor.transform_features(df_test)\n",
    "test_data_transformed"
   ]
  },
  {
   "cell_type": "code",
   "execution_count": null,
   "metadata": {},
   "outputs": [],
   "source": [
    "# df_importance = predictor.feature_importance(\n",
    "#     data=df_test,\n",
    "#     # subsample_size=5000,\n",
    "#     # num_shuffle_sets=10,\n",
    "# )\n"
   ]
  },
  {
   "cell_type": "code",
   "execution_count": null,
   "metadata": {},
   "outputs": [],
   "source": [
    "# df_importance"
   ]
  },
  {
   "cell_type": "code",
   "execution_count": null,
   "metadata": {},
   "outputs": [],
   "source": []
  }
 ]
}