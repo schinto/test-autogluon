{
 "metadata": {
  "language_info": {
   "codemirror_mode": {
    "name": "ipython",
    "version": 3
   },
   "file_extension": ".py",
   "mimetype": "text/x-python",
   "name": "python",
   "nbconvert_exporter": "python",
   "pygments_lexer": "ipython3",
   "version": "3.7.10"
  },
  "orig_nbformat": 4,
  "kernelspec": {
   "name": "python3",
   "display_name": "Python 3.7.10 64-bit"
  },
  "interpreter": {
   "hash": "7cbda11db75a6a6f02552cb5b1d0c9db45260176a858c36f0b0a2fdf2092b644"
  }
 },
 "nbformat": 4,
 "nbformat_minor": 2,
 "cells": [
  {
   "source": [
    "# Build PIH classification model with Autogluon"
   ],
   "cell_type": "markdown",
   "metadata": {}
  },
  {
   "cell_type": "code",
   "execution_count": 1,
   "metadata": {},
   "outputs": [],
   "source": [
    "import os\n",
    "import pandas as pd\n",
    "from autogluon.tabular import TabularDataset, TabularPredictor\n",
    "from sklearn.model_selection import train_test_split\n",
    "import warnings\n",
    "warnings.filterwarnings(\"ignore\", category=DeprecationWarning)"
   ]
  },
  {
   "source": [
    "## Prepare data"
   ],
   "cell_type": "markdown",
   "metadata": {}
  },
  {
   "cell_type": "code",
   "execution_count": 2,
   "metadata": {},
   "outputs": [
    {
     "output_type": "stream",
     "name": "stdout",
     "text": [
      "train dataset (996, 1034)\nno     600\nyes    396\nName: Photosensitation, dtype: int64\ntest dataset (306, 1034)\nno     183\nyes    123\nName: Photosensitation, dtype: int64\n"
     ]
    }
   ],
   "source": [
    "rdkit_file = \"./data/pih_rdkit.csv\"\n",
    "flatring_file = \"./data/pih_flatring.csv\"\n",
    "fps_file = \"./data/pih_fps.csv\"\n",
    "rdkit_fps_file = \"./data/pih_rdkit_fps.csv\"\n",
    "flatring_fps_file = \"./data/pih_flatring_fps.csv\"\n",
    "flatring_rdkit_fps_file = \"./data/pih_flatring_rdkit_fps.csv\"\n",
    "\n",
    "# Select feature file\n",
    "in_file = fps_file \n",
    "base = os.path.basename(in_file)\n",
    "in_name = os.path.splitext(base)[0]\n",
    "\n",
    "data = TabularDataset(data=in_file)\n",
    "df_train = data[data.Set == \"Train\"].copy()\n",
    "df_test = data[data.Set == \"Test\"].copy()\n",
    "\n",
    "df_train.drop(columns=[\"Set\"], inplace=True)\n",
    "df_test.drop(columns=[\"Set\"], inplace=True)\n",
    "\n",
    "print(\"train dataset\", df_train.shape)\n",
    "print(df_train.Photosensitation.value_counts())\n",
    "print(\"test dataset\", df_test.shape)\n",
    "print(df_test.Photosensitation.value_counts())"
   ]
  },
  {
   "source": [
    "## Training"
   ],
   "cell_type": "markdown",
   "metadata": {}
  },
  {
   "cell_type": "code",
   "execution_count": 3,
   "metadata": {},
   "outputs": [
    {
     "output_type": "execute_result",
     "data": {
      "text/plain": [
       "<autogluon.tabular.predictor.predictor.TabularPredictor at 0x7ff5e8086890>"
      ]
     },
     "metadata": {},
     "execution_count": 3
    }
   ],
   "source": [
    "label_column = 'Photosensitation'\n",
    "save_path = f\"./models/ag-binary-model-{in_name}\"\n",
    "id_columns = [\"Substance\", \"Canonical_Smiles\"]\n",
    "\n",
    "predictor = TabularPredictor(\n",
    "    label=label_column,\n",
    "    path=save_path,\n",
    "    problem_type='binary',\n",
    "    eval_metric='roc_auc',\n",
    "    learner_kwargs={\n",
    "        'positive_class': 'yes',\n",
    "        'ignored_columns': id_columns\n",
    "    },\n",
    ")\n",
    "predictor.fit(\n",
    "    train_data=df_train,\n",
    "    presets='best_quality',\n",
    "    #auto_stack=True,\n",
    "    verbosity=0,\n",
    ")"
   ]
  },
  {
   "cell_type": "code",
   "execution_count": 4,
   "metadata": {},
   "outputs": [
    {
     "output_type": "stream",
     "name": "stdout",
     "text": [
      "*** Summary of fit() ***\nEstimated performance of each model:\n                      model  score_val  pred_time_val    fit_time  pred_time_val_marginal  fit_time_marginal  stack_level  can_infer  fit_order\n0       WeightedEnsemble_L3   0.729478       7.932170  222.414333                0.001377           1.295963            3       True         28\n1     ExtraTreesGini_BAG_L2   0.728083       7.091479  205.047055                0.217727           0.826044            2       True         22\n2       WeightedEnsemble_L2   0.722066       3.107671  132.034148                0.001089           1.364263            2       True         14\n3     ExtraTreesEntr_BAG_L2   0.721879       7.097965  204.945586                0.224213           0.724575            2       True         23\n4   RandomForestGini_BAG_L2   0.721425       7.092590  205.034567                0.218838           0.813556            2       True         19\n5   RandomForestEntr_BAG_L2   0.720495       7.077029  204.971667                0.203277           0.750656            2       True         20\n6     ExtraTreesEntr_BAG_L1   0.710894       0.216543    0.731285                0.216543           0.731285            1       True          9\n7           CatBoost_BAG_L2   0.708952       7.007465  216.329121                0.133713          12.108110            2       True         21\n8         LightGBMXT_BAG_L2   0.708047       6.950311  217.954921                0.076559          13.733910            2       True         17\n9   RandomForestGini_BAG_L1   0.707883       0.219270    0.815525                0.219270           0.815525            1       True          5\n10  RandomForestEntr_BAG_L1   0.705831       0.209043    0.717152                0.209043           0.717152            1       True          6\n11    ExtraTreesGini_BAG_L1   0.704398       0.223692    0.725974                0.223692           0.725974            1       True          8\n12          CatBoost_BAG_L1   0.700476       0.142692   19.367333                0.142692          19.367333            1       True          7\n13           XGBoost_BAG_L2   0.698704       6.944228  210.218210                0.070477           5.997199            2       True         25\n14          LightGBM_BAG_L2   0.688687       6.953156  218.108464                0.079404          13.887453            2       True         18\n15        LightGBMXT_BAG_L1   0.688190       0.072512   12.936595                0.072512          12.936595            1       True          3\n16          LightGBM_BAG_L1   0.686568       0.075063   12.279620                0.075063          12.279620            1       True          4\n17    KNeighborsDist_BAG_L2   0.684101       6.990123  204.271196                0.116371           0.050185            2       True         16\n18    NeuralNetMXNet_BAG_L1   0.679861       2.043224   83.766343                2.043224          83.766343            1       True         12\n19     LightGBMLarge_BAG_L2   0.679503       6.947308  237.841135                0.073556          33.620124            2       True         27\n20    KNeighborsDist_BAG_L1   0.671831       0.116024    0.049924                0.116024           0.049924            1       True          2\n21    KNeighborsUnif_BAG_L2   0.669550       6.990179  204.269629                0.116427           0.048618            2       True         15\n22   NeuralNetFastAI_BAG_L2   0.668148       9.844595  237.817552                2.970843          33.596541            2       True         24\n23     LightGBMLarge_BAG_L1   0.666206       0.075246   31.819847                0.075246          31.819847            1       True         13\n24           XGBoost_BAG_L1   0.660122       0.068112    5.646391                0.068112           5.646391            1       True         11\n25   NeuralNetFastAI_BAG_L1   0.659806       3.298745   35.317812                3.298745          35.317812            1       True         10\n26    KNeighborsUnif_BAG_L1   0.656237       0.113587    0.047209                0.113587           0.047209            1       True          1\n27    NeuralNetMXNet_BAG_L2   0.638013       8.916338  275.859783                2.042586          71.638772            2       True         26\nNumber of models trained: 28\nTypes of models trained:\n{'StackerEnsembleModel_NNFastAiTabular', 'StackerEnsembleModel_TabularNeuralNet', 'StackerEnsembleModel_RF', 'StackerEnsembleModel_CatBoost', 'StackerEnsembleModel_LGB', 'StackerEnsembleModel_XGBoost', 'WeightedEnsembleModel', 'StackerEnsembleModel_XT', 'StackerEnsembleModel_KNN'}\nBagging used: True  (with 9 folds)\nMulti-layer stack-ensembling used: True  (with 3 levels)\nFeature Metadata (Processed):\n(raw dtype, special dtypes):\n('float', []) :    1 | ['FLATRING:Ratio_AtomsInFlatRings']\n('int', [])   : 1030 | ['FLATRING:Num_AtomsInFlatRings', 'FLATRING:Num_1_Flat_Rings', 'FLATRING:Num_2_Fused_Flat_Rings', 'FLATRING:Num_3_Fused_Flat_Rings', 'FLATRING:Num_Greater_3_Fused_Flat_Rings', ...]\n*** End of fit() summary ***\n"
     ]
    }
   ],
   "source": [
    "results = predictor.fit_summary(verbosity=1)"
   ]
  },
  {
   "source": [
    "## Inference"
   ],
   "cell_type": "markdown",
   "metadata": {}
  },
  {
   "cell_type": "code",
   "execution_count": 5,
   "metadata": {},
   "outputs": [
    {
     "output_type": "execute_result",
     "data": {
      "text/plain": [
       "{'roc_auc': 0.8171398107423697,\n",
       " 'accuracy': 0.7581699346405228,\n",
       " 'balanced_accuracy': 0.7245101959216314,\n",
       " 'mcc': 0.48804793706257626,\n",
       " 'f1': 0.6476190476190476,\n",
       " 'precision': 0.7816091954022989,\n",
       " 'recall': 0.5528455284552846,\n",
       " 'confusion_matrix':       no  yes\n",
       " no   164   19\n",
       " yes   55   68,\n",
       " 'classification_report': {'no': {'precision': 0.7488584474885844,\n",
       "   'recall': 0.8961748633879781,\n",
       "   'f1-score': 0.8159203980099503,\n",
       "   'support': 183},\n",
       "  'yes': {'precision': 0.7816091954022989,\n",
       "   'recall': 0.5528455284552846,\n",
       "   'f1-score': 0.6476190476190476,\n",
       "   'support': 123},\n",
       "  'accuracy': 0.7581699346405228,\n",
       "  'macro avg': {'precision': 0.7652338214454417,\n",
       "   'recall': 0.7245101959216314,\n",
       "   'f1-score': 0.731769722814499,\n",
       "   'support': 306},\n",
       "  'weighted avg': {'precision': 0.7620229638068422,\n",
       "   'recall': 0.7581699346405228,\n",
       "   'f1-score': 0.7482698552057641,\n",
       "   'support': 306}},\n",
       " 'dataset': 'pih_flatring_fps'}"
      ]
     },
     "metadata": {},
     "execution_count": 5
    }
   ],
   "source": [
    "label_column = 'Photosensitation'\n",
    "\n",
    "# Evaluate model on test data\n",
    "y_pred = predictor.predict_proba(df_test.drop(columns=[label_column]))\n",
    "y_true = df_test[label_column]\n",
    "perf = predictor.evaluate_predictions(\n",
    "    y_true=y_true,\n",
    "    y_pred=y_pred,\n",
    "    auxiliary_metrics=True,\n",
    "    silent=True,\n",
    "    detailed_report=True,\n",
    ")\n",
    "perf[\"dataset\"] = in_name\n",
    "perf\n",
    "  "
   ]
  },
  {
   "cell_type": "code",
   "execution_count": 10,
   "metadata": {},
   "outputs": [
    {
     "output_type": "stream",
     "name": "stdout",
     "text": [
      "Sensitivity: 0.8961748633879781\nSpecifity  : 0.5528455284552846\nConfusion matrix\n"
     ]
    },
    {
     "output_type": "execute_result",
     "data": {
      "text/plain": [
       "                   predicted negative  predicted positive\n",
       "observed negative                 164                  19\n",
       "observed positive                  55                  68"
      ],
      "text/html": "<div>\n<style scoped>\n    .dataframe tbody tr th:only-of-type {\n        vertical-align: middle;\n    }\n\n    .dataframe tbody tr th {\n        vertical-align: top;\n    }\n\n    .dataframe thead th {\n        text-align: right;\n    }\n</style>\n<table border=\"1\" class=\"dataframe\">\n  <thead>\n    <tr style=\"text-align: right;\">\n      <th></th>\n      <th>predicted negative</th>\n      <th>predicted positive</th>\n    </tr>\n  </thead>\n  <tbody>\n    <tr>\n      <th>observed negative</th>\n      <td>164</td>\n      <td>19</td>\n    </tr>\n    <tr>\n      <th>observed positive</th>\n      <td>55</td>\n      <td>68</td>\n    </tr>\n  </tbody>\n</table>\n</div>"
     },
     "metadata": {},
     "execution_count": 10
    }
   ],
   "source": [
    "df_confusion_matrix = perf[\"confusion_matrix\"]\n",
    "tp = df_confusion_matrix.iloc[0,0]\n",
    "fn = df_confusion_matrix.iloc[0,1]\n",
    "fp = df_confusion_matrix.iloc[1,0]\n",
    "tn = df_confusion_matrix.iloc[1,1]\n",
    "sensitivity = tp/(tp+fn)\n",
    "specifity   = tn/(tn+fp)\n",
    "print(f\"Sensitivity: {sensitivity}\")\n",
    "print(f\"Specifity  : {specifity}\")\n",
    "print(\"Confusion matrix\")\n",
    "(df_confusion_matrix.rename(columns={\"yes\": 'predicted positive','no': 'predicted negative'})\n",
    ".rename({'yes': 'observed positive','no': 'observed negative'})\n",
    ")"
   ]
  },
  {
   "cell_type": "code",
   "execution_count": 7,
   "metadata": {},
   "outputs": [
    {
     "output_type": "execute_result",
     "data": {
      "text/plain": [
       "                      model  score_test  score_val  pred_time_test  \\\n",
       "0   RandomForestEntr_BAG_L1    0.831734   0.705831        0.125345   \n",
       "1       WeightedEnsemble_L2    0.826736   0.722066        5.123621   \n",
       "2     ExtraTreesEntr_BAG_L1    0.826469   0.710894        0.116973   \n",
       "3           CatBoost_BAG_L2    0.825003   0.708952        9.874318   \n",
       "4     ExtraTreesEntr_BAG_L2    0.823404   0.721879        9.777328   \n",
       "5   RandomForestGini_BAG_L1    0.823271   0.707883        0.127844   \n",
       "6       WeightedEnsemble_L3    0.817140   0.729478       10.357458   \n",
       "7    NeuralNetFastAI_BAG_L2    0.815318   0.668148       13.573646   \n",
       "8           CatBoost_BAG_L1    0.814963   0.700476        0.161445   \n",
       "9     ExtraTreesGini_BAG_L1    0.814807   0.704398        0.128863   \n",
       "10  RandomForestEntr_BAG_L2    0.813341   0.720495        9.775166   \n",
       "11    ExtraTreesGini_BAG_L2    0.812097   0.728083        9.776320   \n",
       "12    NeuralNetMXNet_BAG_L2    0.811675   0.638013       13.959071   \n",
       "13     LightGBMLarge_BAG_L1    0.811542   0.666206        0.091014   \n",
       "14           XGBoost_BAG_L2    0.811364   0.698704        9.988743   \n",
       "15    NeuralNetMXNet_BAG_L1    0.810920   0.679861        4.247847   \n",
       "16          LightGBM_BAG_L2    0.807988   0.688687        9.742688   \n",
       "17  RandomForestGini_BAG_L2    0.807122   0.721425        9.776707   \n",
       "18   NeuralNetFastAI_BAG_L1    0.806389   0.659806        3.907461   \n",
       "19           XGBoost_BAG_L1    0.787241   0.660122        0.299380   \n",
       "20          LightGBM_BAG_L1    0.786441   0.686568        0.100274   \n",
       "21        LightGBMXT_BAG_L2    0.786397   0.708047        9.747912   \n",
       "22    KNeighborsDist_BAG_L2    0.784619   0.684101        9.769419   \n",
       "23     LightGBMLarge_BAG_L2    0.784397   0.679503        9.764137   \n",
       "24        LightGBMXT_BAG_L1    0.768848   0.688190        0.122146   \n",
       "25    KNeighborsDist_BAG_L1    0.766804   0.671831        0.112916   \n",
       "26    KNeighborsUnif_BAG_L2    0.754143   0.669550        9.764264   \n",
       "27    KNeighborsUnif_BAG_L1    0.734728   0.656237        0.111881   \n",
       "\n",
       "    pred_time_val    fit_time  pred_time_test_marginal  \\\n",
       "0        0.209043    0.717152                 0.125345   \n",
       "1        3.107671  132.034148                 0.006348   \n",
       "2        0.216543    0.731285                 0.116973   \n",
       "3        7.007465  216.329121                 0.220928   \n",
       "4        7.097965  204.945586                 0.123938   \n",
       "5        0.219270    0.815525                 0.127844   \n",
       "6        7.932170  222.414333                 0.006711   \n",
       "7        9.844595  237.817552                 3.920256   \n",
       "8        0.142692   19.367333                 0.161445   \n",
       "9        0.223692    0.725974                 0.128863   \n",
       "10       7.077029  204.971667                 0.121776   \n",
       "11       7.091479  205.047055                 0.122930   \n",
       "12       8.916338  275.859783                 4.305681   \n",
       "13       0.075246   31.819847                 0.091014   \n",
       "14       6.944228  210.218210                 0.335353   \n",
       "15       2.043224   83.766343                 4.247847   \n",
       "16       6.953156  218.108464                 0.089298   \n",
       "17       7.092590  205.034567                 0.123317   \n",
       "18       3.298745   35.317812                 3.907461   \n",
       "19       0.068112    5.646391                 0.299380   \n",
       "20       0.075063   12.279620                 0.100274   \n",
       "21       6.950311  217.954921                 0.094522   \n",
       "22       6.990123  204.271196                 0.116029   \n",
       "23       6.947308  237.841135                 0.110747   \n",
       "24       0.072512   12.936595                 0.122146   \n",
       "25       0.116024    0.049924                 0.112916   \n",
       "26       6.990179  204.269629                 0.110874   \n",
       "27       0.113587    0.047209                 0.111881   \n",
       "\n",
       "    pred_time_val_marginal  fit_time_marginal  stack_level  can_infer  \\\n",
       "0                 0.209043           0.717152            1       True   \n",
       "1                 0.001089           1.364263            2       True   \n",
       "2                 0.216543           0.731285            1       True   \n",
       "3                 0.133713          12.108110            2       True   \n",
       "4                 0.224213           0.724575            2       True   \n",
       "5                 0.219270           0.815525            1       True   \n",
       "6                 0.001377           1.295963            3       True   \n",
       "7                 2.970843          33.596541            2       True   \n",
       "8                 0.142692          19.367333            1       True   \n",
       "9                 0.223692           0.725974            1       True   \n",
       "10                0.203277           0.750656            2       True   \n",
       "11                0.217727           0.826044            2       True   \n",
       "12                2.042586          71.638772            2       True   \n",
       "13                0.075246          31.819847            1       True   \n",
       "14                0.070477           5.997199            2       True   \n",
       "15                2.043224          83.766343            1       True   \n",
       "16                0.079404          13.887453            2       True   \n",
       "17                0.218838           0.813556            2       True   \n",
       "18                3.298745          35.317812            1       True   \n",
       "19                0.068112           5.646391            1       True   \n",
       "20                0.075063          12.279620            1       True   \n",
       "21                0.076559          13.733910            2       True   \n",
       "22                0.116371           0.050185            2       True   \n",
       "23                0.073556          33.620124            2       True   \n",
       "24                0.072512          12.936595            1       True   \n",
       "25                0.116024           0.049924            1       True   \n",
       "26                0.116427           0.048618            2       True   \n",
       "27                0.113587           0.047209            1       True   \n",
       "\n",
       "    fit_order  \n",
       "0           6  \n",
       "1          14  \n",
       "2           9  \n",
       "3          21  \n",
       "4          23  \n",
       "5           5  \n",
       "6          28  \n",
       "7          24  \n",
       "8           7  \n",
       "9           8  \n",
       "10         20  \n",
       "11         22  \n",
       "12         26  \n",
       "13         13  \n",
       "14         25  \n",
       "15         12  \n",
       "16         18  \n",
       "17         19  \n",
       "18         10  \n",
       "19         11  \n",
       "20          4  \n",
       "21         17  \n",
       "22         16  \n",
       "23         27  \n",
       "24          3  \n",
       "25          2  \n",
       "26         15  \n",
       "27          1  "
      ],
      "text/html": "<div>\n<style scoped>\n    .dataframe tbody tr th:only-of-type {\n        vertical-align: middle;\n    }\n\n    .dataframe tbody tr th {\n        vertical-align: top;\n    }\n\n    .dataframe thead th {\n        text-align: right;\n    }\n</style>\n<table border=\"1\" class=\"dataframe\">\n  <thead>\n    <tr style=\"text-align: right;\">\n      <th></th>\n      <th>model</th>\n      <th>score_test</th>\n      <th>score_val</th>\n      <th>pred_time_test</th>\n      <th>pred_time_val</th>\n      <th>fit_time</th>\n      <th>pred_time_test_marginal</th>\n      <th>pred_time_val_marginal</th>\n      <th>fit_time_marginal</th>\n      <th>stack_level</th>\n      <th>can_infer</th>\n      <th>fit_order</th>\n    </tr>\n  </thead>\n  <tbody>\n    <tr>\n      <th>0</th>\n      <td>RandomForestEntr_BAG_L1</td>\n      <td>0.831734</td>\n      <td>0.705831</td>\n      <td>0.125345</td>\n      <td>0.209043</td>\n      <td>0.717152</td>\n      <td>0.125345</td>\n      <td>0.209043</td>\n      <td>0.717152</td>\n      <td>1</td>\n      <td>True</td>\n      <td>6</td>\n    </tr>\n    <tr>\n      <th>1</th>\n      <td>WeightedEnsemble_L2</td>\n      <td>0.826736</td>\n      <td>0.722066</td>\n      <td>5.123621</td>\n      <td>3.107671</td>\n      <td>132.034148</td>\n      <td>0.006348</td>\n      <td>0.001089</td>\n      <td>1.364263</td>\n      <td>2</td>\n      <td>True</td>\n      <td>14</td>\n    </tr>\n    <tr>\n      <th>2</th>\n      <td>ExtraTreesEntr_BAG_L1</td>\n      <td>0.826469</td>\n      <td>0.710894</td>\n      <td>0.116973</td>\n      <td>0.216543</td>\n      <td>0.731285</td>\n      <td>0.116973</td>\n      <td>0.216543</td>\n      <td>0.731285</td>\n      <td>1</td>\n      <td>True</td>\n      <td>9</td>\n    </tr>\n    <tr>\n      <th>3</th>\n      <td>CatBoost_BAG_L2</td>\n      <td>0.825003</td>\n      <td>0.708952</td>\n      <td>9.874318</td>\n      <td>7.007465</td>\n      <td>216.329121</td>\n      <td>0.220928</td>\n      <td>0.133713</td>\n      <td>12.108110</td>\n      <td>2</td>\n      <td>True</td>\n      <td>21</td>\n    </tr>\n    <tr>\n      <th>4</th>\n      <td>ExtraTreesEntr_BAG_L2</td>\n      <td>0.823404</td>\n      <td>0.721879</td>\n      <td>9.777328</td>\n      <td>7.097965</td>\n      <td>204.945586</td>\n      <td>0.123938</td>\n      <td>0.224213</td>\n      <td>0.724575</td>\n      <td>2</td>\n      <td>True</td>\n      <td>23</td>\n    </tr>\n    <tr>\n      <th>5</th>\n      <td>RandomForestGini_BAG_L1</td>\n      <td>0.823271</td>\n      <td>0.707883</td>\n      <td>0.127844</td>\n      <td>0.219270</td>\n      <td>0.815525</td>\n      <td>0.127844</td>\n      <td>0.219270</td>\n      <td>0.815525</td>\n      <td>1</td>\n      <td>True</td>\n      <td>5</td>\n    </tr>\n    <tr>\n      <th>6</th>\n      <td>WeightedEnsemble_L3</td>\n      <td>0.817140</td>\n      <td>0.729478</td>\n      <td>10.357458</td>\n      <td>7.932170</td>\n      <td>222.414333</td>\n      <td>0.006711</td>\n      <td>0.001377</td>\n      <td>1.295963</td>\n      <td>3</td>\n      <td>True</td>\n      <td>28</td>\n    </tr>\n    <tr>\n      <th>7</th>\n      <td>NeuralNetFastAI_BAG_L2</td>\n      <td>0.815318</td>\n      <td>0.668148</td>\n      <td>13.573646</td>\n      <td>9.844595</td>\n      <td>237.817552</td>\n      <td>3.920256</td>\n      <td>2.970843</td>\n      <td>33.596541</td>\n      <td>2</td>\n      <td>True</td>\n      <td>24</td>\n    </tr>\n    <tr>\n      <th>8</th>\n      <td>CatBoost_BAG_L1</td>\n      <td>0.814963</td>\n      <td>0.700476</td>\n      <td>0.161445</td>\n      <td>0.142692</td>\n      <td>19.367333</td>\n      <td>0.161445</td>\n      <td>0.142692</td>\n      <td>19.367333</td>\n      <td>1</td>\n      <td>True</td>\n      <td>7</td>\n    </tr>\n    <tr>\n      <th>9</th>\n      <td>ExtraTreesGini_BAG_L1</td>\n      <td>0.814807</td>\n      <td>0.704398</td>\n      <td>0.128863</td>\n      <td>0.223692</td>\n      <td>0.725974</td>\n      <td>0.128863</td>\n      <td>0.223692</td>\n      <td>0.725974</td>\n      <td>1</td>\n      <td>True</td>\n      <td>8</td>\n    </tr>\n    <tr>\n      <th>10</th>\n      <td>RandomForestEntr_BAG_L2</td>\n      <td>0.813341</td>\n      <td>0.720495</td>\n      <td>9.775166</td>\n      <td>7.077029</td>\n      <td>204.971667</td>\n      <td>0.121776</td>\n      <td>0.203277</td>\n      <td>0.750656</td>\n      <td>2</td>\n      <td>True</td>\n      <td>20</td>\n    </tr>\n    <tr>\n      <th>11</th>\n      <td>ExtraTreesGini_BAG_L2</td>\n      <td>0.812097</td>\n      <td>0.728083</td>\n      <td>9.776320</td>\n      <td>7.091479</td>\n      <td>205.047055</td>\n      <td>0.122930</td>\n      <td>0.217727</td>\n      <td>0.826044</td>\n      <td>2</td>\n      <td>True</td>\n      <td>22</td>\n    </tr>\n    <tr>\n      <th>12</th>\n      <td>NeuralNetMXNet_BAG_L2</td>\n      <td>0.811675</td>\n      <td>0.638013</td>\n      <td>13.959071</td>\n      <td>8.916338</td>\n      <td>275.859783</td>\n      <td>4.305681</td>\n      <td>2.042586</td>\n      <td>71.638772</td>\n      <td>2</td>\n      <td>True</td>\n      <td>26</td>\n    </tr>\n    <tr>\n      <th>13</th>\n      <td>LightGBMLarge_BAG_L1</td>\n      <td>0.811542</td>\n      <td>0.666206</td>\n      <td>0.091014</td>\n      <td>0.075246</td>\n      <td>31.819847</td>\n      <td>0.091014</td>\n      <td>0.075246</td>\n      <td>31.819847</td>\n      <td>1</td>\n      <td>True</td>\n      <td>13</td>\n    </tr>\n    <tr>\n      <th>14</th>\n      <td>XGBoost_BAG_L2</td>\n      <td>0.811364</td>\n      <td>0.698704</td>\n      <td>9.988743</td>\n      <td>6.944228</td>\n      <td>210.218210</td>\n      <td>0.335353</td>\n      <td>0.070477</td>\n      <td>5.997199</td>\n      <td>2</td>\n      <td>True</td>\n      <td>25</td>\n    </tr>\n    <tr>\n      <th>15</th>\n      <td>NeuralNetMXNet_BAG_L1</td>\n      <td>0.810920</td>\n      <td>0.679861</td>\n      <td>4.247847</td>\n      <td>2.043224</td>\n      <td>83.766343</td>\n      <td>4.247847</td>\n      <td>2.043224</td>\n      <td>83.766343</td>\n      <td>1</td>\n      <td>True</td>\n      <td>12</td>\n    </tr>\n    <tr>\n      <th>16</th>\n      <td>LightGBM_BAG_L2</td>\n      <td>0.807988</td>\n      <td>0.688687</td>\n      <td>9.742688</td>\n      <td>6.953156</td>\n      <td>218.108464</td>\n      <td>0.089298</td>\n      <td>0.079404</td>\n      <td>13.887453</td>\n      <td>2</td>\n      <td>True</td>\n      <td>18</td>\n    </tr>\n    <tr>\n      <th>17</th>\n      <td>RandomForestGini_BAG_L2</td>\n      <td>0.807122</td>\n      <td>0.721425</td>\n      <td>9.776707</td>\n      <td>7.092590</td>\n      <td>205.034567</td>\n      <td>0.123317</td>\n      <td>0.218838</td>\n      <td>0.813556</td>\n      <td>2</td>\n      <td>True</td>\n      <td>19</td>\n    </tr>\n    <tr>\n      <th>18</th>\n      <td>NeuralNetFastAI_BAG_L1</td>\n      <td>0.806389</td>\n      <td>0.659806</td>\n      <td>3.907461</td>\n      <td>3.298745</td>\n      <td>35.317812</td>\n      <td>3.907461</td>\n      <td>3.298745</td>\n      <td>35.317812</td>\n      <td>1</td>\n      <td>True</td>\n      <td>10</td>\n    </tr>\n    <tr>\n      <th>19</th>\n      <td>XGBoost_BAG_L1</td>\n      <td>0.787241</td>\n      <td>0.660122</td>\n      <td>0.299380</td>\n      <td>0.068112</td>\n      <td>5.646391</td>\n      <td>0.299380</td>\n      <td>0.068112</td>\n      <td>5.646391</td>\n      <td>1</td>\n      <td>True</td>\n      <td>11</td>\n    </tr>\n    <tr>\n      <th>20</th>\n      <td>LightGBM_BAG_L1</td>\n      <td>0.786441</td>\n      <td>0.686568</td>\n      <td>0.100274</td>\n      <td>0.075063</td>\n      <td>12.279620</td>\n      <td>0.100274</td>\n      <td>0.075063</td>\n      <td>12.279620</td>\n      <td>1</td>\n      <td>True</td>\n      <td>4</td>\n    </tr>\n    <tr>\n      <th>21</th>\n      <td>LightGBMXT_BAG_L2</td>\n      <td>0.786397</td>\n      <td>0.708047</td>\n      <td>9.747912</td>\n      <td>6.950311</td>\n      <td>217.954921</td>\n      <td>0.094522</td>\n      <td>0.076559</td>\n      <td>13.733910</td>\n      <td>2</td>\n      <td>True</td>\n      <td>17</td>\n    </tr>\n    <tr>\n      <th>22</th>\n      <td>KNeighborsDist_BAG_L2</td>\n      <td>0.784619</td>\n      <td>0.684101</td>\n      <td>9.769419</td>\n      <td>6.990123</td>\n      <td>204.271196</td>\n      <td>0.116029</td>\n      <td>0.116371</td>\n      <td>0.050185</td>\n      <td>2</td>\n      <td>True</td>\n      <td>16</td>\n    </tr>\n    <tr>\n      <th>23</th>\n      <td>LightGBMLarge_BAG_L2</td>\n      <td>0.784397</td>\n      <td>0.679503</td>\n      <td>9.764137</td>\n      <td>6.947308</td>\n      <td>237.841135</td>\n      <td>0.110747</td>\n      <td>0.073556</td>\n      <td>33.620124</td>\n      <td>2</td>\n      <td>True</td>\n      <td>27</td>\n    </tr>\n    <tr>\n      <th>24</th>\n      <td>LightGBMXT_BAG_L1</td>\n      <td>0.768848</td>\n      <td>0.688190</td>\n      <td>0.122146</td>\n      <td>0.072512</td>\n      <td>12.936595</td>\n      <td>0.122146</td>\n      <td>0.072512</td>\n      <td>12.936595</td>\n      <td>1</td>\n      <td>True</td>\n      <td>3</td>\n    </tr>\n    <tr>\n      <th>25</th>\n      <td>KNeighborsDist_BAG_L1</td>\n      <td>0.766804</td>\n      <td>0.671831</td>\n      <td>0.112916</td>\n      <td>0.116024</td>\n      <td>0.049924</td>\n      <td>0.112916</td>\n      <td>0.116024</td>\n      <td>0.049924</td>\n      <td>1</td>\n      <td>True</td>\n      <td>2</td>\n    </tr>\n    <tr>\n      <th>26</th>\n      <td>KNeighborsUnif_BAG_L2</td>\n      <td>0.754143</td>\n      <td>0.669550</td>\n      <td>9.764264</td>\n      <td>6.990179</td>\n      <td>204.269629</td>\n      <td>0.110874</td>\n      <td>0.116427</td>\n      <td>0.048618</td>\n      <td>2</td>\n      <td>True</td>\n      <td>15</td>\n    </tr>\n    <tr>\n      <th>27</th>\n      <td>KNeighborsUnif_BAG_L1</td>\n      <td>0.734728</td>\n      <td>0.656237</td>\n      <td>0.111881</td>\n      <td>0.113587</td>\n      <td>0.047209</td>\n      <td>0.111881</td>\n      <td>0.113587</td>\n      <td>0.047209</td>\n      <td>1</td>\n      <td>True</td>\n      <td>1</td>\n    </tr>\n  </tbody>\n</table>\n</div>"
     },
     "metadata": {},
     "execution_count": 7
    }
   ],
   "source": [
    "df_leaderboard = predictor.leaderboard(df_test, silent=True)\n",
    "df_leaderboard"
   ]
  },
  {
   "cell_type": "code",
   "execution_count": 8,
   "metadata": {},
   "outputs": [],
   "source": [
    "# df_importance = predictor.feature_importance(\n",
    "#     data=df_test,\n",
    "#     subsample_size=5000,\n",
    "#     num_shuffle_sets=10,\n",
    "# )\n"
   ]
  },
  {
   "cell_type": "code",
   "execution_count": 9,
   "metadata": {},
   "outputs": [],
   "source": [
    "# df_importance"
   ]
  },
  {
   "cell_type": "code",
   "execution_count": null,
   "metadata": {},
   "outputs": [],
   "source": []
  }
 ]
}