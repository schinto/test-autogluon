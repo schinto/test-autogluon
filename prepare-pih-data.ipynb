{
 "metadata": {
  "language_info": {
   "codemirror_mode": {
    "name": "ipython",
    "version": 3
   },
   "file_extension": ".py",
   "mimetype": "text/x-python",
   "name": "python",
   "nbconvert_exporter": "python",
   "pygments_lexer": "ipython3",
   "version": "3.7.10"
  },
  "orig_nbformat": 2,
  "kernelspec": {
   "name": "python3",
   "display_name": "Python 3.7.10 64-bit"
  },
  "interpreter": {
   "hash": "7cbda11db75a6a6f02552cb5b1d0c9db45260176a858c36f0b0a2fdf2092b644"
  }
 },
 "nbformat": 4,
 "nbformat_minor": 2,
 "cells": [
  {
   "cell_type": "code",
   "execution_count": 1,
   "metadata": {},
   "outputs": [],
   "source": [
    "import numpy as np\n",
    "import pandas as pd\n",
    "\n",
    "from rdkit import RDLogger\n",
    "from rdkit import Chem, rdBase\n",
    "from rdkit.Chem import AllChem\n",
    "from rdkit.Chem import DataStructs\n",
    "from rdkit.Chem.Draw import IPythonConsole\n",
    "from rdkit.Chem import PandasTools\n",
    "from rdkit.Chem.MolStandardize import rdMolStandardize\n",
    "from rdkit.Chem.MolStandardize.standardize import canonicalize_tautomer_smiles\n",
    "\n",
    "from descriptors import calc_MACCS_keys_fingerprint, calc_flat_ring_properties, calc_rdkit_properties, calc_morgan_fingerprints, calc_cats2d_descriptors\n",
    "\n",
    "pd.set_option('display.max_colwidth', 1000)\n"
   ]
  },
  {
   "cell_type": "code",
   "execution_count": 2,
   "metadata": {},
   "outputs": [
    {
     "output_type": "stream",
     "name": "stdout",
     "text": [
      "RDKit version: 2021.03.3\n"
     ]
    }
   ],
   "source": [
    "print(f'RDKit version: {rdBase.rdkitVersion}')"
   ]
  },
  {
   "cell_type": "code",
   "execution_count": 3,
   "metadata": {},
   "outputs": [
    {
     "output_type": "execute_result",
     "data": {
      "text/plain": [
       "           Substance                               Canonical_Smiles    Set  \\\n",
       "0  5-Methoxypsoralen                     COc1c2C=CC(=O)Oc2cc3occc13  Train   \n",
       "1           Abacavir  Nc1nc(NC2CC2)c3ncn([C@@H]4C[C@H](CO)C=C4)c3n1  Train   \n",
       "2        Acamprosate                           CC(=O)NCCCS(=O)(=O)O  Train   \n",
       "3         Acebutolol       CCCC(=O)Nc1ccc(OCC(O)CNC(C)C)c(c1)C(=O)C  Train   \n",
       "4        Aceclofenac          OC(=O)COC(=O)Cc1ccccc1Nc2c(Cl)cccc2Cl   Test   \n",
       "\n",
       "  Clinical Post-Marketing Lit/Legacy Photosensitation  \n",
       "0        x            NaN        NaN              yes  \n",
       "1        x              x        NaN              yes  \n",
       "2        x            NaN        NaN              yes  \n",
       "3        x            (x)        NaN              yes  \n",
       "4        x            NaN        NaN              yes  "
      ],
      "text/html": "<div>\n<style scoped>\n    .dataframe tbody tr th:only-of-type {\n        vertical-align: middle;\n    }\n\n    .dataframe tbody tr th {\n        vertical-align: top;\n    }\n\n    .dataframe thead th {\n        text-align: right;\n    }\n</style>\n<table border=\"1\" class=\"dataframe\">\n  <thead>\n    <tr style=\"text-align: right;\">\n      <th></th>\n      <th>Substance</th>\n      <th>Canonical_Smiles</th>\n      <th>Set</th>\n      <th>Clinical</th>\n      <th>Post-Marketing</th>\n      <th>Lit/Legacy</th>\n      <th>Photosensitation</th>\n    </tr>\n  </thead>\n  <tbody>\n    <tr>\n      <th>0</th>\n      <td>5-Methoxypsoralen</td>\n      <td>COc1c2C=CC(=O)Oc2cc3occc13</td>\n      <td>Train</td>\n      <td>x</td>\n      <td>NaN</td>\n      <td>NaN</td>\n      <td>yes</td>\n    </tr>\n    <tr>\n      <th>1</th>\n      <td>Abacavir</td>\n      <td>Nc1nc(NC2CC2)c3ncn([C@@H]4C[C@H](CO)C=C4)c3n1</td>\n      <td>Train</td>\n      <td>x</td>\n      <td>x</td>\n      <td>NaN</td>\n      <td>yes</td>\n    </tr>\n    <tr>\n      <th>2</th>\n      <td>Acamprosate</td>\n      <td>CC(=O)NCCCS(=O)(=O)O</td>\n      <td>Train</td>\n      <td>x</td>\n      <td>NaN</td>\n      <td>NaN</td>\n      <td>yes</td>\n    </tr>\n    <tr>\n      <th>3</th>\n      <td>Acebutolol</td>\n      <td>CCCC(=O)Nc1ccc(OCC(O)CNC(C)C)c(c1)C(=O)C</td>\n      <td>Train</td>\n      <td>x</td>\n      <td>(x)</td>\n      <td>NaN</td>\n      <td>yes</td>\n    </tr>\n    <tr>\n      <th>4</th>\n      <td>Aceclofenac</td>\n      <td>OC(=O)COC(=O)Cc1ccccc1Nc2c(Cl)cccc2Cl</td>\n      <td>Test</td>\n      <td>x</td>\n      <td>NaN</td>\n      <td>NaN</td>\n      <td>yes</td>\n    </tr>\n  </tbody>\n</table>\n</div>"
     },
     "metadata": {},
     "execution_count": 3
    }
   ],
   "source": [
    "df_excel = pd.read_excel(\"./data/tx9b00338_si_001.xls\", sheet_name=\"PIH\")\n",
    "df_excel.head()"
   ]
  },
  {
   "cell_type": "code",
   "execution_count": 4,
   "metadata": {},
   "outputs": [],
   "source": [
    "# Replace end of line in substance names\n",
    "# df_excel['Substance'] = df_excel['Substance'].str.replace(\"\\n\",\"|\")"
   ]
  },
  {
   "cell_type": "code",
   "execution_count": 5,
   "metadata": {},
   "outputs": [
    {
     "output_type": "execute_result",
     "data": {
      "text/plain": [
       "Train    1006\n",
       "Test      307\n",
       "Ext       104\n",
       "Name: Set, dtype: int64"
      ]
     },
     "metadata": {},
     "execution_count": 5
    }
   ],
   "source": [
    "# The column Set contains the dataset split information used in the model evaluation\n",
    "df_excel.Set.value_counts()"
   ]
  },
  {
   "cell_type": "code",
   "execution_count": 6,
   "metadata": {
    "tags": []
   },
   "outputs": [
    {
     "output_type": "stream",
     "name": "stdout",
     "text": [
      "S1c2ccccn2=[O][Zn]13Sc4ccccn4=[O]3 failed conversion\n",
      "CO[C@H]1O[C@H](COS(=O)(=O)O)[C@@H](O[C@@H]2O[C@H]([C@@H](O[C@H]3O[C@H](COS(=O)(=O)O)[C@@H](O[C@@H]4O[C@@H]([C@@H](O[C@H]5O[C@H](COS(=O)(=O)O)[C@@H](O)[C@H](O)[C@H]5NS(=O)(=O)O)[C@H](O)[C@H]4O)C(=O)O)[C@H](OS(=O)(=O)O)[C@H]3NS(=O)(=O)O)[C@H](O)[C@H]2OS... failed conversion\n",
      "ON(=O)=[O][Ga](ON(=O)=O)[O]=N(=O)O failed conversion\n",
      "ON(=O)=[O][C@@H]1CO[C@H]2[C@@H]1OC[C@@H]2[O]=N(=O)O failed conversion\n",
      "O[C@H]1CO[C@H]2[C@@H]1OC[C@H]2[O]=N(=O)O failed conversion\n",
      "ON(=O)=[O]CC(CON(=O)=O)[O]=N(=O)O failed conversion\n",
      "------------------------------\n",
      "#Molecules before cleaning: 1417\n",
      "#Molecules  after cleaning: 1408\n"
     ]
    }
   ],
   "source": [
    "def parent(smiles):\n",
    "    '''Get parent of a smiles'''\n",
    "    try:\n",
    "        m = Chem.MolFromSmiles(smiles)\n",
    "        if m is None:\n",
    "            raise Exception(\"MolFromSmiles failed\")\n",
    "        m = rdMolStandardize.FragmentParent(m)\n",
    "        return Chem.MolToSmiles(m)\n",
    "    except:\n",
    "        print(f\"{smiles} failed conversion\")\n",
    "        return np.nan\n",
    "\n",
    "def clean_smiles(smiles):\n",
    "    try:\n",
    "        mol = Chem.MolFromSmiles(smiles)\n",
    "        Chem.SanitizeMol(mol)\n",
    "        mol = Chem.RemoveHs(mol)\n",
    "        mol = rdMolStandardize.MetalDisconnector().Disconnect(mol)\n",
    "        mol = rdMolStandardize.Normalize(mol)\n",
    "        mol = rdMolStandardize.Reionize(mol)\n",
    "        Chem.AssignStereochemistry(mol, force=True, cleanIt=True)\n",
    "        return Chem.MolToSmiles(mol)\n",
    "    except:\n",
    "        print(f\"{smiles} failed conversion\")\n",
    "        return np.nan\n",
    "    \n",
    "def canonical_tautomer(smiles):\n",
    "    try:\n",
    "        mol = Chem.MolFromSmiles(smiles)\n",
    "        enumerator = rdMolStandardize.TautomerEnumerator()\n",
    "        enumerator.Canonicalize(m)\n",
    "        return Chem.MolToSmiles(mol)\n",
    "    except:\n",
    "        print(f\"{smiles} failed conversion\")\n",
    "        return np.nan\n",
    "\n",
    "def clean_data(data, canonicalize=True):\n",
    "    '''Clean and standardize the data'''\n",
    "    data = data.copy()\n",
    "    \n",
    "    # Replace newlines in smiles\n",
    "    data['smiles'] = data['smiles'].str.replace(\"\\n\",\"\")\n",
    "\n",
    "    # Remove missing smiles\n",
    "    data = data[data['smiles'].notnull()]\n",
    "    \n",
    "    # Standardize and get parent\n",
    "    data[\"smiles_parent\"] = data['smiles'].apply(parent)\n",
    "    \n",
    "    # Remove rows with missing parent smiles\n",
    "    data = data[data['smiles_parent'].notnull()]\n",
    "\n",
    "    # Standardize parent smiles\n",
    "    data[\"smiles_clean\"] = data['smiles_parent'].apply(clean_smiles)\n",
    "    \n",
    "    # Remove rows with missing cleaned smiles\n",
    "    data = data[data['smiles_clean'].notnull()]\n",
    "\n",
    "    # Filter out small fragments\n",
    "    def NumAtoms(smile):\n",
    "        return Chem.MolFromSmiles(smile).GetNumAtoms()\n",
    "    data[\"NumAtoms\"] = data[\"smiles_clean\"].apply(NumAtoms)\n",
    "    data = data[data[\"NumAtoms\"] > 3]\n",
    "    data.drop(columns=['NumAtoms'],inplace = True)\n",
    "\n",
    "    # Canonicalalize tautomer smiles\n",
    "    if canonicalize:\n",
    "        data[\"Canonical_Smiles\"] = data[\"smiles_clean\"].apply(canonicalize_tautomer_smiles)\n",
    "    else:\n",
    "        data[\"Canonical_Smiles\"] = data[\"smiles_clean\"]\n",
    "\n",
    "    return data\n",
    "\n",
    "data = df_excel.rename(columns={\"Canonical_Smiles\": \"smiles\"})\n",
    "num_mols_before =  data.shape[0]\n",
    "\n",
    "RDLogger.DisableLog('rdApp.info')\n",
    "RDLogger.DisableLog('rdApp.error')\n",
    "data = clean_data(data, canonicalize=True)\n",
    "data.reset_index(drop=True, inplace=True)\n",
    "RDLogger.EnableLog('rdApp.info')\n",
    "RDLogger.DisableLog('rdApp.error')\n",
    "\n",
    "num_mols_after =  data.shape[0]\n",
    "print(\"-\"*30)\n",
    "print(f'#Molecules before cleaning: {num_mols_before}')\n",
    "print(f'#Molecules  after cleaning: {num_mols_after}')\n"
   ]
  },
  {
   "cell_type": "code",
   "execution_count": 7,
   "metadata": {},
   "outputs": [
    {
     "output_type": "execute_result",
     "data": {
      "text/plain": [
       "                                                                                                                                                                                                                                                                 Canonical_Smiles\n",
       "Substance                                                                                                                                                                                                                                                                        \n",
       "Ethanol                                                                                                                                                                                                                                                                       CCO\n",
       "Fondaparinux     CO[C@H]1O[C@H](COS(=O)(=O)O)[C@@H](O[C@@H]2O[C@H]([C@@H](O[C@H]3O[C@H](COS(=O)(=O)O)[C@@H](O[C@@H]4O[C@@H]([C@@H](O[C@H]5O[C@H](COS(=O)(=O)O)[C@@H](O)[C@H](O)[C@H]5NS(=O)(=O)O)[C@H](O)[C@H]4O)C(=O)O)[\\nC@H](OS(=O)(=O)O)[C@H]3NS(=O)(=O)O)[C@H](O)[C@H]2OS...\n",
       "Gallium Nitrate                                                                                                                                                                                                                                ON(=O)=[O][Ga](ON(=O)=O)[O]=N(=O)O\n",
       "Isosorbide                                                                                                                                                                                                                    ON(=O)=[O][C@@H]1CO[C@H]2[C@@H]1OC[C@@H]2[O]=N(=O)O\n",
       "Isosorbide                                                                                                                                                                                                                               O[C@H]1CO[C@H]2[C@@H]1OC[C@H]2[O]=N(=O)O\n",
       "Nitroglycerin                                                                                                                                                                                                                                   ON(=O)=[O]CC(CON(=O)=O)[O]=N(=O)O\n",
       "Nitroprusside,                                                                                                                                                                                                                                     O=N[Fe](C#N)(C#N)(C#N)(C#N)C#N\n",
       "Pyrithione                                                                                                                                                                                                                                     S1c2ccccn2=[O][Zn]13Sc4ccccn4=[O]3\n",
       "Sodium Nitrite                                                                                                                                                                                                                                                               ON=O"
      ],
      "text/html": "<div>\n<style scoped>\n    .dataframe tbody tr th:only-of-type {\n        vertical-align: middle;\n    }\n\n    .dataframe tbody tr th {\n        vertical-align: top;\n    }\n\n    .dataframe thead th {\n        text-align: right;\n    }\n</style>\n<table border=\"1\" class=\"dataframe\">\n  <thead>\n    <tr style=\"text-align: right;\">\n      <th></th>\n      <th>Canonical_Smiles</th>\n    </tr>\n    <tr>\n      <th>Substance</th>\n      <th></th>\n    </tr>\n  </thead>\n  <tbody>\n    <tr>\n      <th>Ethanol</th>\n      <td>CCO</td>\n    </tr>\n    <tr>\n      <th>Fondaparinux</th>\n      <td>CO[C@H]1O[C@H](COS(=O)(=O)O)[C@@H](O[C@@H]2O[C@H]([C@@H](O[C@H]3O[C@H](COS(=O)(=O)O)[C@@H](O[C@@H]4O[C@@H]([C@@H](O[C@H]5O[C@H](COS(=O)(=O)O)[C@@H](O)[C@H](O)[C@H]5NS(=O)(=O)O)[C@H](O)[C@H]4O)C(=O)O)[\\nC@H](OS(=O)(=O)O)[C@H]3NS(=O)(=O)O)[C@H](O)[C@H]2OS...</td>\n    </tr>\n    <tr>\n      <th>Gallium Nitrate</th>\n      <td>ON(=O)=[O][Ga](ON(=O)=O)[O]=N(=O)O</td>\n    </tr>\n    <tr>\n      <th>Isosorbide</th>\n      <td>ON(=O)=[O][C@@H]1CO[C@H]2[C@@H]1OC[C@@H]2[O]=N(=O)O</td>\n    </tr>\n    <tr>\n      <th>Isosorbide</th>\n      <td>O[C@H]1CO[C@H]2[C@@H]1OC[C@H]2[O]=N(=O)O</td>\n    </tr>\n    <tr>\n      <th>Nitroglycerin</th>\n      <td>ON(=O)=[O]CC(CON(=O)=O)[O]=N(=O)O</td>\n    </tr>\n    <tr>\n      <th>Nitroprusside,</th>\n      <td>O=N[Fe](C#N)(C#N)(C#N)(C#N)C#N</td>\n    </tr>\n    <tr>\n      <th>Pyrithione</th>\n      <td>S1c2ccccn2=[O][Zn]13Sc4ccccn4=[O]3</td>\n    </tr>\n    <tr>\n      <th>Sodium Nitrite</th>\n      <td>ON=O</td>\n    </tr>\n  </tbody>\n</table>\n</div>"
     },
     "metadata": {},
     "execution_count": 7
    }
   ],
   "source": [
    "# Check smiles that failed conversion to molecules during clean up\n",
    "df = df_excel[[\"Substance\",\"Canonical_Smiles\"]].set_index(\"Substance\").join(data.set_index(\"Substance\"),rsuffix=\"_original\")\n",
    "df_failed_cleanup = df.loc[df['smiles_parent'].isnull(),[\"Canonical_Smiles\"]]\n",
    "df_failed_cleanup"
   ]
  },
  {
   "cell_type": "code",
   "execution_count": 8,
   "metadata": {},
   "outputs": [
    {
     "output_type": "stream",
     "name": "stdout",
     "text": [
      "O=N[Fe](C#N)(C#N)(C#N)(C#N)C#N\n"
     ]
    },
    {
     "output_type": "execute_result",
     "data": {
      "text/plain": [
       "<rdkit.Chem.rdchem.Mol at 0x7fe1b08ed260>"
      ],
      "image/png": "[encoded data removed]"
     },
     "metadata": {},
     "execution_count": 8
    }
   ],
   "source": [
    "# Check structures without sanitation\n",
    "smiles = df_failed_cleanup.loc[\"Nitroprusside,\"].values[0]\n",
    "print(smiles)\n",
    "Chem.MolFromSmiles(smiles,sanitize=False)"
   ]
  },
  {
   "source": [
    "Failure reason: Coordinated metal complex "
   ],
   "cell_type": "markdown",
   "metadata": {}
  },
  {
   "cell_type": "code",
   "execution_count": 9,
   "metadata": {},
   "outputs": [
    {
     "output_type": "stream",
     "name": "stdout",
     "text": [
      "ON(=O)=[O][Ga](ON(=O)=O)[O]=N(=O)O\n"
     ]
    },
    {
     "output_type": "execute_result",
     "data": {
      "text/plain": [
       "<rdkit.Chem.rdchem.Mol at 0x7fe1c07f8580>"
      ],
      "image/png": "[encoded data removed]"
     },
     "metadata": {},
     "execution_count": 9
    }
   ],
   "source": [
    "# Check structures without sanitation\n",
    "smiles = df_failed_cleanup.loc[\"Gallium Nitrate\"].values[0]\n",
    "print(smiles)\n",
    "Chem.MolFromSmiles(smiles,sanitize=False)"
   ]
  },
  {
   "source": [
    "Failure reason: Coordinated metal complex"
   ],
   "cell_type": "markdown",
   "metadata": {}
  },
  {
   "cell_type": "code",
   "execution_count": 10,
   "metadata": {},
   "outputs": [
    {
     "output_type": "stream",
     "name": "stdout",
     "text": [
      "S1c2ccccn2=[O][Zn]13Sc4ccccn4=[O]3\n"
     ]
    },
    {
     "output_type": "execute_result",
     "data": {
      "text/plain": [
       "<rdkit.Chem.rdchem.Mol at 0x7fe1c07f8710>"
      ],
      "image/png": "[encoded data removed]"
     },
     "metadata": {},
     "execution_count": 10
    }
   ],
   "source": [
    "# Check structures without sanitation\n",
    "smiles = df_failed_cleanup.loc[\"Pyrithione\"].values[0]\n",
    "print(smiles)\n",
    "Chem.MolFromSmiles(smiles,sanitize=False)"
   ]
  },
  {
   "source": [
    "Failure reason: Coordinated metal complex"
   ],
   "cell_type": "markdown",
   "metadata": {}
  },
  {
   "cell_type": "code",
   "execution_count": 11,
   "metadata": {},
   "outputs": [
    {
     "output_type": "stream",
     "name": "stdout",
     "text": [
      "CO[C@H]1O[C@H](COS(=O)(=O)O)[C@@H](O[C@@H]2O[C@H]([C@@H](O[C@H]3O[C@H](COS(=O)(=O)O)[C@@H](O[C@@H]4O[C@@H]([C@@H](O[C@H]5O[C@H](COS(=O)(=O)O)[C@@H](O)[C@H](O)[C@H]5NS(=O)(=O)O)[C@H](O)[C@H]4O)C(=O)O)[\nC@H](OS(=O)(=O)O)[C@H]3NS(=O)(=O)O)[C@H](O)[C@H]2OS...\n"
     ]
    }
   ],
   "source": [
    "# Check structures without sanitation\n",
    "smiles = df_failed_cleanup.loc[\"Fondaparinux\"].values[0]\n",
    "print(smiles)\n",
    "Chem.MolFromSmiles(smiles,sanitize=False)"
   ]
  },
  {
   "source": [
    "Reason: SMILEs string is truncated with ..."
   ],
   "cell_type": "markdown",
   "metadata": {}
  },
  {
   "cell_type": "code",
   "execution_count": 12,
   "metadata": {},
   "outputs": [
    {
     "output_type": "stream",
     "name": "stdout",
     "text": [
      "Failed conversion of smiles:\n",
      "Empty DataFrame\n",
      "Columns: [Substance, Canonical_Smiles, Set, Photosensitation, Molecule]\n",
      "Index: []\n",
      "#Molecules before dropping: 1408\n",
      "#Molecules  after dropping: 1408\n"
     ]
    }
   ],
   "source": [
    "# Keep required columns\n",
    "keep = [\"Substance\", \"Canonical_Smiles\", \"Set\", \"Photosensitation\"]\n",
    "df_mols = data[keep].copy()\n",
    "\n",
    "# Add molecules to dataframe\n",
    "num_mols_before =  df_mols.shape[0]\n",
    "PandasTools.AddMoleculeColumnToFrame(df_mols,'Canonical_Smiles','Molecule')\n",
    "\n",
    "# Check for empty molecules\n",
    "print(\"Failed conversion of smiles:\")\n",
    "print(df_mols[df_mols.Molecule.isnull()])\n",
    "\n",
    "# Drop rows with empty molecules\n",
    "df_mols = df_mols[df_mols.Molecule.notnull()]\n",
    "df_mols.reset_index(drop=True, inplace=True)\n",
    "num_mols_after =  df_mols.shape[0]\n",
    "\n",
    "print(f'#Molecules before dropping: {num_mols_before}')\n",
    "print(f'#Molecules  after dropping: {num_mols_after}')\n"
   ]
  },
  {
   "cell_type": "code",
   "execution_count": 13,
   "metadata": {},
   "outputs": [
    {
     "output_type": "execute_result",
     "data": {
      "image/png": "[encoded data removed]",
      "text/plain": [
       "<IPython.core.display.Image object>"
      ]
     },
     "metadata": {},
     "execution_count": 13
    }
   ],
   "source": [
    "PandasTools.FrameToGridImage(df_mols[:6], column='Molecule', legendsCol='Substance')"
   ]
  },
  {
   "cell_type": "code",
   "execution_count": 14,
   "metadata": {},
   "outputs": [],
   "source": [
    "# keep = [\"Substance\", \"smiles\", \"Canonical_Smiles\"]\n",
    "# df_check = data[keep].copy()\n",
    "# df_check.to_excel(\"./data/phototox_clean.xlsx\", index=False)\n"
   ]
  },
  {
   "cell_type": "code",
   "execution_count": 15,
   "metadata": {
    "tags": []
   },
   "outputs": [
    {
     "output_type": "stream",
     "name": "stdout",
     "text": [
      "Done.\n"
     ]
    }
   ],
   "source": [
    "# Columns to keep from df_mols\n",
    "keep = [\"Substance\", \"Canonical_Smiles\", \"Set\", \"Photosensitation\"]\n",
    "\n",
    "# Calculate features\n",
    "maccs_features, maccs_columns = calc_MACCS_keys_fingerprint(df_mols['Molecule'])\n",
    "flatring_features, flatring_columns = calc_flat_ring_properties(df_mols['Molecule'])\n",
    "rdkit_features, rdkit_columns = calc_rdkit_properties(df_mols['Molecule'])\n",
    "fingerprint_features, fingerprint_columns = calc_morgan_fingerprints(df_mols['Molecule'], nBits=1024, radius=3)\n",
    "cats_features, cats_columns = calc_cats2d_descriptors(df_mols['Molecule'])\n",
    "\n",
    "# Write file with CATS features\n",
    "df = pd.DataFrame(data=cats_features, columns=cats_columns)\n",
    "df = df.apply(pd.to_numeric, downcast='integer')\n",
    "df = df_mols[keep].join(df)\n",
    "df.to_csv(\"./data/pih_cats.csv\", index=False)\n",
    "\n",
    "# Write file with MACCS features\n",
    "df = pd.DataFrame(data=maccs_features, columns=maccs_columns)\n",
    "df = df.apply(pd.to_numeric, downcast='integer')\n",
    "df = df_mols[keep].join(df)\n",
    "df.to_csv(\"./data/pih_maccs.csv\", index=False)\n",
    "\n",
    "# Write file with rdkit features\n",
    "df = pd.DataFrame(data=rdkit_features, columns=rdkit_columns)\n",
    "df = df.apply(pd.to_numeric, downcast='integer')\n",
    "df = df_mols[keep].join(df)\n",
    "df.to_csv(\"./data/pih_rdkit.csv\", index=False)\n",
    "\n",
    "# Write file with flat ring features\n",
    "df = pd.DataFrame(data=flatring_features, columns=flatring_columns)\n",
    "df = df.apply(pd.to_numeric, downcast='integer')\n",
    "df = df_mols[keep].join(df)\n",
    "df.to_csv(\"./data/pih_flatring.csv\", index=False)\n",
    "\n",
    "# Write file with fingerprint features\n",
    "df = pd.DataFrame(data=fingerprint_features, columns=fingerprint_columns)\n",
    "df = df.apply(pd.to_numeric, downcast='integer')\n",
    "df = df_mols[keep].join(df)\n",
    "df.to_csv(\"./data/pih_fps.csv\", index=False)\n",
    "\n",
    "# Combine flatring with MACCS features\n",
    "flatring_maccs_features = np.hstack([flatring_features, maccs_features])\n",
    "flatring_maccs_columns  = np.hstack([flatring_columns, maccs_columns])\n",
    "\n",
    "df = pd.DataFrame(data=flatring_maccs_features, columns=flatring_maccs_columns)\n",
    "df = df.apply(pd.to_numeric, downcast='integer')\n",
    "df = df_mols[keep].join(df)\n",
    "df.to_csv(\"./data/pih_flatring_maccs.csv\", index=False)\n",
    "\n",
    "# Combine flatring with CATS features\n",
    "flatring_cats_features = np.hstack([flatring_features, cats_features])\n",
    "flatring_cats_columns  = np.hstack([flatring_columns, cats_columns])\n",
    "\n",
    "df = pd.DataFrame(data=flatring_cats_features, columns=flatring_cats_columns)\n",
    "df = df.apply(pd.to_numeric, downcast='integer')\n",
    "df = df_mols[keep].join(df)\n",
    "df.to_csv(\"./data/pih_flatring_cats.csv\", index=False)\n",
    "\n",
    "# Combine rdkit with flatring and CATS features\n",
    "flatring_rdkit_cats_features = np.hstack([flatring_features, rdkit_features, cats_features])\n",
    "flatring_rdkit_cats_columns  = np.hstack([flatring_columns, rdkit_columns, cats_columns])\n",
    "\n",
    "df = pd.DataFrame(data=flatring_rdkit_cats_features, columns=flatring_rdkit_cats_columns)\n",
    "df = df.apply(pd.to_numeric, downcast='integer')\n",
    "df = df_mols[keep].join(df)\n",
    "df.to_csv(\"./data/pih_flatring_rdkit_cats.csv\", index=False)\n",
    "\n",
    "# Combine rdkit with flatring features\n",
    "flatring_rdkit_features = np.hstack([flatring_features, rdkit_features])\n",
    "flatring_rdkit_columns  = np.hstack([flatring_columns, rdkit_columns])\n",
    "\n",
    "df = pd.DataFrame(data=flatring_rdkit_features, columns=flatring_rdkit_columns)\n",
    "df = df.apply(pd.to_numeric, downcast='integer')\n",
    "df = df_mols[keep].join(df)\n",
    "df.to_csv(\"./data/pih_flatring_rdkit.csv\", index=False)\n",
    "\n",
    "# Combine rdkit with fingerprint features\n",
    "rdkit_fps_features = np.hstack([rdkit_features, fingerprint_features])\n",
    "rdkit_fps_columns = np.hstack([rdkit_columns, fingerprint_columns])\n",
    "\n",
    "df = pd.DataFrame(data=rdkit_fps_features, columns=rdkit_fps_columns)\n",
    "df = df.apply(pd.to_numeric, downcast='integer')\n",
    "df = df_mols[keep].join(df)\n",
    "df.to_csv(\"./data/pih_rdkit_fps.csv\", index=False)\n",
    "\n",
    "# Combine maccs with fingerprint features\n",
    "maccs_fps_features = np.hstack([maccs_features, fingerprint_features])\n",
    "maccs_fps_columns = np.hstack([maccs_columns, fingerprint_columns])\n",
    "\n",
    "df = pd.DataFrame(data=maccs_fps_features, columns=maccs_fps_columns)\n",
    "df = df.apply(pd.to_numeric, downcast='integer')\n",
    "df = df_mols[keep].join(df)\n",
    "df.to_csv(\"./data/pih_maccs_fps.csv\", index=False)\n",
    "\n",
    "# Combine flatring with fingerprint features\n",
    "flatring_fps_features = np.hstack([flatring_features, fingerprint_features])\n",
    "flatring_fps_columns = np.hstack([flatring_columns, fingerprint_columns])\n",
    "\n",
    "df = pd.DataFrame(data=flatring_fps_features, columns=flatring_fps_columns)\n",
    "df = df.apply(pd.to_numeric, downcast='integer')\n",
    "df = df_mols[keep].join(df)\n",
    "df.to_csv(\"./data/pih_flatring_fps.csv\", index=False)\n",
    "\n",
    "# Combine flatring with rdkit and fingerprint features\n",
    "flatring_rdkit_fps_features = np.hstack([flatring_features, rdkit_features, fingerprint_features])\n",
    "flatring_rdkit_fps_columns = np.hstack([flatring_columns, rdkit_columns, fingerprint_columns])\n",
    "\n",
    "df = pd.DataFrame(data=flatring_rdkit_fps_features, columns=flatring_rdkit_fps_columns)\n",
    "df = df.apply(pd.to_numeric, downcast='integer')\n",
    "df = df_mols[keep].join(df)\n",
    "df.to_csv(\"./data/pih_flatring_rdkit_fps.csv\", index=False)\n",
    "\n",
    "print(\"Done.\")"
   ]
  },
  {
   "cell_type": "code",
   "execution_count": null,
   "metadata": {},
   "outputs": [],
   "source": []
  }
 ]
}